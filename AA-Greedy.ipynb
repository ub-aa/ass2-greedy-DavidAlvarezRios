{
 "cells": [
  {
   "cell_type": "markdown",
   "metadata": {},
   "source": [
    "<div style=\"padding:30px; color: white; background-color: #0071CD\">\n",
    "<center>\n",
    "<img src=\"img/logoub.jpeg\"></img>\n",
    "<center>\n",
    "<p>\n",
    "<h1>Algorísmica Avançada</h1>\n",
    "<h2>Práctica 2: Greedy</h2>\n",
    "</center>\n",
    "</p>\n",
    "</div>"
   ]
  },
  {
   "cell_type": "markdown",
   "metadata": {},
   "source": [
    "<div class=\"alert alert-success\" style=\"width:90%; margin:0 auto;\">\n",
    "  <h2><p>Minimum Spanning Tree</p></h2>\n",
    "  <p>\n",
    "Dado un grafo conexo y no dirigido, un minimum spanning tree de ese grafo es un subgrafo que tiene que ser un árbol y contener todos los vértices del grafo inicial. Cada arista tiene asignado un peso proporcional entre ellos, que es un número representativo de algún objeto, distancia, etc.; y se usa para asignar un peso total al MST computando la suma de todos los pesos de las aristas del árbol en cuestión. Un MST o un árbol expandido mínimo es un árbol recubridor que pesa menos o igual que otros árboles recubridores. Todo grafo tiene un bosque recubridor mínimo.\n",
    "  </p>\n",
    "  <p>\n",
    "      En esta práctica se plantea la implementación del algoritmo de Prim para encontrar el arbol de expansión mínima en el metro de Londres.\n",
    "  </p>\n",
    "  </div>\n"
   ]
  },
  {
   "cell_type": "markdown",
   "metadata": {},
   "source": [
    "<div class=\"alert alert-danger\" style=\"width:80%; margin:0 auto; padding\">\n",
    "<center><p><h3> Código </h3></p> </center>\n",
    "<p>\n",
    "<h3>INPUT</h3>\n",
    "<ul>\n",
    "<li>__G__: El grafo del metro de londres.</li>\n",
    "</ul>\n",
    "<br>\n",
    "<h3>OUTPUT</h3>\n",
    "\n",
    "<ul>\n",
    "<li>\n",
    "__tree__: Objeto de tipo `Graph` que contenga el MST del grafo inical.\n",
    "</li>\n",
    "<ul>\n",
    "\n",
    "</p>\n",
    "</div>\n"
   ]
  },
  {
   "cell_type": "code",
   "execution_count": 2,
   "metadata": {
    "collapsed": true
   },
   "outputs": [],
   "source": [
    "import heapq\n",
    "from graph import Graph\n",
    "import random as r\n",
    "def prim(G, origin=None, infinity = 99999999999):\n",
    "    \"\"\" Implementación del algoritmo de Prim para obtener el MST de un grafo cualquiera.\n",
    "    Args:\n",
    "        G (Graph): El grafo de tipo Graph sobre el que queremos buscar los componentes conexos\n",
    "    Returns:\n",
    "        tree: El grafo de tipo Graph que contiene el arbol de expansión mínima.\n",
    "    \"\"\"\n",
    "    \n",
    "    nodes = G.nodes()\n",
    "    if origin == None: #Si no hi ha node de origen d'entrada, agafem un node del graf G de forma aleatoria\n",
    "        origin = nodes[r.randint(0,len(nodes)-1)]\n",
    "        \n",
    "    if origin not in G.nodes():#En cas de que s'entri un node que no existeix al graf G surt un error\n",
    "        raise ValueError(\"Aquest node no es troba en el graf G\")\n",
    "\n",
    "    tree = Graph()\n",
    "    dic = {}\n",
    "    for node in nodes:\n",
    "        dic.update({node : {'value': infinity, 'prev':None, 'visited' : False}})\n",
    "        \n",
    "    visited = []\n",
    "    pending = []\n",
    "    heapq.heapify(pending) #convertim la llista pending en un minheap\n",
    "    \n",
    "    G.node[origin]['value'] = 0 #posem el cost del node origen a 0.\n",
    "    current_node = origin\n",
    "    heapq.heappush(pending, (G.node[current_node]['value'], origin))\n",
    "    \n",
    "    while pending:\n",
    "        \n",
    "        current_node = heapq.heappop(pending)[1]#fem pop del node amb menor cost\n",
    "           \n",
    "        for vei in G.neighbors(current_node):#mirem tots els veins del node actual\n",
    "            \n",
    "            if dic[vei]['visited'] == False:#Si el node no ha sigut visitat asignem valor i node pare.\n",
    "                distancia = G.edge[current_node][vei]['distance']         \n",
    "                G.node[vei]['value'] = distancia\n",
    "                G.node[vei]['prev'] = current_node\n",
    "                heapq.heappush(pending, (G.node[vei]['value'], vei))#afegim el node dins de l'array pending\n",
    "            \n",
    "        if dic[current_node]['visited'] == False:    \n",
    "            visited.append(current_node) #Si el node actual no es troba a visited, el fiquem\n",
    "            dic[current_node]['visited'] = True\n",
    "    \n",
    "    cami_minim = []#Dins d'aquesta array aniré posant les aristes que formen l'arbre generador minim\n",
    "    \n",
    "    #treballo amb els elements dins de la llista visited, perque en alguns casos particulars, utilitzant\n",
    "    #l'atribut prev(el pare del node) no donava la solucio correcta. \n",
    "    current_node = visited.pop(len(visited)-1)\n",
    "    \n",
    "    while visited: #mentre visited no estigui buida\n",
    "        if G.node[current_node]['prev'] != None: #el node amb pare None sera el node origen.\n",
    "            #creo una tupla (pare_node, node_actual)\n",
    "            edge = (G.node[current_node]['prev'],current_node)\n",
    "            cami_minim.append(edge)\n",
    "            current_node = visited.pop(len(visited)-1)#El següent node a mirar.\n",
    "        \n",
    "    cami_minim.reverse()\n",
    "    tree.add_edges_from(cami_minim)\n",
    "    print(cami_minim)\n",
    "    \n",
    "    return tree"
   ]
  },
  {
   "cell_type": "code",
   "execution_count": 51,
   "metadata": {},
   "outputs": [
    {
     "ename": "KeyError",
     "evalue": "'longitude'",
     "output_type": "error",
     "traceback": [
      "\u001b[0;31m---------------------------------------------------------------------------\u001b[0m",
      "\u001b[0;31mKeyError\u001b[0m                                  Traceback (most recent call last)",
      "\u001b[0;32m<ipython-input-51-856fcfeb7925>\u001b[0m in \u001b[0;36m<module>\u001b[0;34m()\u001b[0m\n\u001b[1;32m      2\u001b[0m \u001b[0mtree\u001b[0m \u001b[0;34m=\u001b[0m \u001b[0mprim\u001b[0m\u001b[0;34m(\u001b[0m\u001b[0mG\u001b[0m\u001b[0;34m)\u001b[0m\u001b[0;34m\u001b[0m\u001b[0m\n\u001b[1;32m      3\u001b[0m \u001b[0mtree\u001b[0m \u001b[0;34m=\u001b[0m \u001b[0mgraph2nx\u001b[0m\u001b[0;34m(\u001b[0m\u001b[0mtree\u001b[0m\u001b[0;34m)\u001b[0m\u001b[0;34m\u001b[0m\u001b[0m\n\u001b[0;32m----> 4\u001b[0;31m \u001b[0mdraw_subway_graph\u001b[0m\u001b[0;34m(\u001b[0m\u001b[0mtree\u001b[0m\u001b[0;34m,\u001b[0m \u001b[0mtree\u001b[0m\u001b[0;34m.\u001b[0m\u001b[0medges\u001b[0m\u001b[0;34m(\u001b[0m\u001b[0;34m)\u001b[0m\u001b[0;34m)\u001b[0m\u001b[0;34m\u001b[0m\u001b[0m\n\u001b[0m",
      "\u001b[0;32m/home/david/Documentos/Algorismica Avançada/ass2-greedy-DavidAlvarezRios-master/util.py\u001b[0m in \u001b[0;36mdraw_subway_graph\u001b[0;34m(G, lines, figsize, show_labels)\u001b[0m\n\u001b[1;32m     49\u001b[0m \u001b[0;34m\u001b[0m\u001b[0m\n\u001b[1;32m     50\u001b[0m     \u001b[0mG\u001b[0m \u001b[0;34m=\u001b[0m \u001b[0mgraph2nx\u001b[0m\u001b[0;34m(\u001b[0m\u001b[0mG\u001b[0m\u001b[0;34m)\u001b[0m\u001b[0;34m\u001b[0m\u001b[0m\n\u001b[0;32m---> 51\u001b[0;31m     \u001b[0mpos\u001b[0m \u001b[0;34m=\u001b[0m \u001b[0mnx\u001b[0m\u001b[0;34m.\u001b[0m\u001b[0mspring_layout\u001b[0m\u001b[0;34m(\u001b[0m\u001b[0mG\u001b[0m\u001b[0;34m)\u001b[0m\u001b[0;34m\u001b[0m\u001b[0m\n\u001b[0m\u001b[1;32m     52\u001b[0m     nx.draw_networkx_nodes(G, \n\u001b[1;32m     53\u001b[0m                            \u001b[0mpos\u001b[0m\u001b[0;34m,\u001b[0m\u001b[0;34m\u001b[0m\u001b[0m\n",
      "\u001b[0;32m/home/david/Documentos/Algorismica Avançada/ass2-greedy-DavidAlvarezRios-master/util.py\u001b[0m in \u001b[0;36m<dictcomp>\u001b[0;34m(.0)\u001b[0m\n\u001b[1;32m     49\u001b[0m \u001b[0;34m\u001b[0m\u001b[0m\n\u001b[1;32m     50\u001b[0m     \u001b[0mG\u001b[0m \u001b[0;34m=\u001b[0m \u001b[0mgraph2nx\u001b[0m\u001b[0;34m(\u001b[0m\u001b[0mG\u001b[0m\u001b[0;34m)\u001b[0m\u001b[0;34m\u001b[0m\u001b[0m\n\u001b[0;32m---> 51\u001b[0;31m     \u001b[0mpos\u001b[0m \u001b[0;34m=\u001b[0m \u001b[0mnx\u001b[0m\u001b[0;34m.\u001b[0m\u001b[0mspring_layout\u001b[0m\u001b[0;34m(\u001b[0m\u001b[0mG\u001b[0m\u001b[0;34m)\u001b[0m\u001b[0;34m\u001b[0m\u001b[0m\n\u001b[0m\u001b[1;32m     52\u001b[0m     nx.draw_networkx_nodes(G, \n\u001b[1;32m     53\u001b[0m                            \u001b[0mpos\u001b[0m\u001b[0;34m,\u001b[0m\u001b[0;34m\u001b[0m\u001b[0m\n",
      "\u001b[0;31mKeyError\u001b[0m: 'longitude'"
     ]
    }
   ],
   "source": [
    "from util import get_subway_graph, draw_subway_graph, graph2nx\n",
    "tree = prim(G)\n",
    "tree = graph2nx(tree)\n",
    "draw_subway_graph(tree, tree.edges())"
   ]
  },
  {
   "cell_type": "markdown",
   "metadata": {},
   "source": [
    "<div class=\"alert alert-danger\" style=\"width:80%; margin:0 auto; padding\">\n",
    "<center><p><h3> Tests </h3></p> </center>\n",
    "<p>\n",
    "Realiza los tests pertinentes en las celdas dispuestas a continuación.\n",
    "</p>\n",
    "</div>\n"
   ]
  },
  {
   "cell_type": "code",
   "execution_count": 3,
   "metadata": {},
   "outputs": [],
   "source": [
    "G = Graph()\n",
    "G.add_node('A',attr_dict = {'prev':None})\n",
    "G.add_node('B',attr_dict = {'prev':None})\n",
    "G.add_node('C',attr_dict = {'prev':None})\n",
    "G.add_node('D',attr_dict = {'prev':None})\n",
    "G.add_node('E',attr_dict = {'prev':None})\n",
    "G.add_node('F',attr_dict = {'prev':None})\n",
    "G.add_node('Z',attr_dict = {'prev':None})\n",
    "\n",
    "G.add_edge('A','B',attr_dict = {'distance':5})\n",
    "G.add_edge('A','C',attr_dict = {'distance':6})\n",
    "G.add_edge('A','D',attr_dict = {'distance':4})\n",
    "G.add_edge('B','C',attr_dict = {'distance':1})\n",
    "G.add_edge('B','D',attr_dict = {'distance':2})\n",
    "G.add_edge('C','D',attr_dict = {'distance':2})\n",
    "G.add_edge('C','E',attr_dict = {'distance':5})\n",
    "G.add_edge('C','F',attr_dict = {'distance':3})\n",
    "G.add_edge('D','F',attr_dict = {'distance':4})\n",
    "G.add_edge('E','F',attr_dict = {'distance':4})\n",
    "G.add_edge('A','Z',attr_dict = {'distance':8})\n",
    "\n",
    "\n"
   ]
  },
  {
   "cell_type": "code",
   "execution_count": 5,
   "metadata": {},
   "outputs": [
    {
     "name": "stdout",
     "output_type": "stream",
     "text": [
      "[('A', 'D'), ('D', 'B'), ('B', 'C'), ('C', 'F'), ('F', 'E'), ('A', 'Z')]\n",
      "[('D', 'B'), ('B', 'C'), ('C', 'F'), ('C', 'A'), ('F', 'E'), ('A', 'Z')]\n"
     ]
    },
    {
     "data": {
      "text/plain": [
       "<graph.Graph at 0x7f17f42416a0>"
      ]
     },
     "execution_count": 5,
     "metadata": {},
     "output_type": "execute_result"
    }
   ],
   "source": [
    "prim(G, 'A')\n",
    "prim(G)"
   ]
  },
  {
   "cell_type": "markdown",
   "metadata": {},
   "source": [
    "<div class=\"alert alert-info\">\n",
    "<center>\n",
    "  <h1>Comentarios</h1>\n",
    "  <p>\n",
    "  En esta sección tenéis que comentar brevemente (1) __cómo habéis realizado la implementación del algoritmo__ así como un (2) __análisis detallado de la complejidad__ del mismo.\n",
    "  </p>\n",
    "</center>\n",
    "</div>"
   ]
  },
  {
   "cell_type": "markdown",
   "metadata": {},
   "source": [
    "El bucle while se ejecutara |V| veces, es decir, el numero de nodos que hay en el grafo de entrada. Y el bucle for se ejecutará 2*|E|, porque por cada nodo, tiene que visitar todos los nodos adyacentes (o vecinos). Añadir un elemento al minheap, como hay que mantener el arbol balanceado y el valor más pequeño como raíz, en el peor caso tardará O(log|V|) y se ejecutará O(2|E|log|V|) = O(|E|log|V|) veces. Para añadir el atributo value y prev a los nodos de los grafos tendremos que recorrer todo el grafo lo que supone O(|V|). Entonces, la complejidad total del algoritmo será:\n",
    "\n",
    "O(|E|log|V| + log|V|+|V|) = *O(|E|log|V|)*"
   ]
  },
  {
   "cell_type": "markdown",
   "metadata": {},
   "source": [
    "<div class=\"alert alert-info\">\n",
    "<center>\n",
    "  <h1>Entrega</h1>\n",
    "  <p>\n",
    "  La entrega de esta práctica se realizará a través del __Campus Virtual__. En ella tenéis que incluir únicamente el fichero `.ipynb` sin comprimir con el código debidamente comentado y los comentarios que se os proponen en la anterior sección.\n",
    "  </p>\n",
    "  <p>\n",
    "  El nombre del archivo ha de seguir el formato:\n",
    "  </p><p style=\"text-align:center\">\n",
    "  ```\n",
    "  <apellidos>_<nombre>_EP1.ipynb\n",
    "  ```\n",
    "  </p>\n",
    "</center>\n",
    "</div>"
   ]
  }
 ],
 "metadata": {
  "kernelspec": {
   "display_name": "Python 3",
   "language": "python",
   "name": "python3"
  },
  "language_info": {
   "codemirror_mode": {
    "name": "ipython",
    "version": 3
   },
   "file_extension": ".py",
   "mimetype": "text/x-python",
   "name": "python",
   "nbconvert_exporter": "python",
   "pygments_lexer": "ipython3",
   "version": "3.6.1"
  }
 },
 "nbformat": 4,
 "nbformat_minor": 2
}
