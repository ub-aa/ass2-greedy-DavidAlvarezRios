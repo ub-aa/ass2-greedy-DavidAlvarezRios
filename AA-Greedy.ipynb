{
 "cells": [
  {
   "cell_type": "markdown",
   "metadata": {},
   "source": [
    "<div style=\"padding:30px; color: white; background-color: #0071CD\">\n",
    "<center>\n",
    "<img src=\"img/logoub.jpeg\"></img>\n",
    "<center>\n",
    "<p>\n",
    "<h1>Algorísmica Avançada</h1>\n",
    "<h2>Práctica 2: Greedy</h2>\n",
    "</center>\n",
    "</p>\n",
    "</div>"
   ]
  },
  {
   "cell_type": "markdown",
   "metadata": {},
   "source": [
    "<div class=\"alert alert-success\" style=\"width:90%; margin:0 auto;\">\n",
    "  <h2><p>Minimum Spanning Tree</p></h2>\n",
    "  <p>\n",
    "Dado un grafo conexo y no dirigido, un minimum spanning tree de ese grafo es un subgrafo que tiene que ser un árbol y contener todos los vértices del grafo inicial. Cada arista tiene asignado un peso proporcional entre ellos, que es un número representativo de algún objeto, distancia, etc.; y se usa para asignar un peso total al MST computando la suma de todos los pesos de las aristas del árbol en cuestión. Un MST o un árbol expandido mínimo es un árbol recubridor que pesa menos o igual que otros árboles recubridores. Todo grafo tiene un bosque recubridor mínimo.\n",
    "  </p>\n",
    "  <p>\n",
    "      En esta práctica se plantea la implementación del algoritmo de Prim para encontrar el arbol de expansión mínima en el metro de Londres.\n",
    "  </p>\n",
    "  </div>\n"
   ]
  },
  {
   "cell_type": "markdown",
   "metadata": {},
   "source": [
    "<div class=\"alert alert-danger\" style=\"width:80%; margin:0 auto; padding\">\n",
    "<center><p><h3> Código </h3></p> </center>\n",
    "<p>\n",
    "<h3>INPUT</h3>\n",
    "<ul>\n",
    "<li>__G__: El grafo del metro de londres.</li>\n",
    "</ul>\n",
    "<br>\n",
    "<h3>OUTPUT</h3>\n",
    "\n",
    "<ul>\n",
    "<li>\n",
    "__tree__: Objeto de tipo `Graph` que contenga el MST del grafo inical.\n",
    "</li>\n",
    "<ul>\n",
    "\n",
    "</p>\n",
    "</div>\n"
   ]
  },
  {
   "cell_type": "code",
   "execution_count": null,
   "metadata": {},
   "outputs": [],
   "source": [
    "import heapq\n",
    "from graph import Graph\n",
    "import random as r\n",
    "def prim(G, origin=None, infinity = 99999999999):\n",
    "    \"\"\" Implementación del algoritmo de Prim para obtener el MST de un grafo cualquiera.\n",
    "    Args:\n",
    "        G (Graph): El grafo de tipo Graph sobre el que queremos buscar los componentes conexos\n",
    "    Returns:\n",
    "        tree: El grafo de tipo Graph que contiene el arbol de expansión mínima.\n",
    "    \"\"\"\n",
    "    \n",
    "    nodes = G.nodes()\n",
    "    if origin == None: #Si no hi ha node de origen d'entrada, agafem un node del graf G de forma aleatoria\n",
    "        origin = nodes[r.randint(0,len(nodes)-1)]\n",
    "        \n",
    "    if origin not in G.nodes():#En cas de que s'entri un node que no existeix al graf G surt un error\n",
    "        raise ValueError(\"Aquest node no es troba en el graf G\")\n",
    "\n",
    "    tree = Graph() #Començem amb un graph buit\n",
    "    dic = {} #Per no modificar G, fico els atributs, prev i visited en un diccionari apart\n",
    "    for node in nodes:\n",
    "        dic.update({node : {'visited' : False, 'prev_list' : []}})\n",
    "        \n",
    "    pending = []\n",
    "    heapq.heapify(pending) #convertim la llista pending en un minheap\n",
    "    \n",
    "    \n",
    "    current_node = origin\n",
    "    heapq.heappush(pending, (0, origin))\n",
    "    i = 0\n",
    "    \n",
    "    while pending:\n",
    "\n",
    "        #fem pop del node amb menor cost\n",
    "        current_node = heapq.heappop(pending)[1]\n",
    "        \n",
    "        if dic[current_node]['visited'] == False:    \n",
    "            tree.add_node(current_node, G.node[current_node].copy())\n",
    "            if current_node != origin:\n",
    "                prev = min(dic[current_node]['prev_list'])[1]\n",
    "                tree.add_edge(current_node, prev, G.edge[current_node][prev].copy())\n",
    "            \n",
    "        for vei in G.neighbors(current_node):#mirem tots els veins del node actual\n",
    "          \n",
    "            if dic[vei]['visited'] == False:\n",
    "                heapq.heappush(pending, (G.edge[current_node][vei]['distance'], vei)) #afegim el node dins de l'array pending\n",
    "                dic[vei]['prev_list'].append((G.edge[current_node][vei]['distance'], current_node))\n",
    "        \n",
    "        \n",
    "        if dic[current_node]['visited'] == False:    \n",
    "            dic[current_node]['visited'] = True\n",
    "        \n",
    "    print(tree.edges())\n",
    "\n",
    "    return tree"
   ]
  },
  {
   "cell_type": "markdown",
   "metadata": {},
   "source": [
    "<div class=\"alert alert-danger\" style=\"width:80%; margin:0 auto; padding\">\n",
    "<center><p><h3> Tests </h3></p> </center>\n",
    "<p>\n",
    "Realiza los tests pertinentes en las celdas dispuestas a continuación.\n",
    "</p>\n",
    "</div>\n"
   ]
  },
  {
   "cell_type": "code",
   "execution_count": null,
   "metadata": {},
   "outputs": [],
   "source": [
    "from graph import Graph\n",
    "#graf senzill\n",
    "G = Graph()\n",
    "G.add_node('A',attr_dict = {'prev':None})\n",
    "G.add_node('B',attr_dict = {'prev':None})\n",
    "G.add_node('C',attr_dict = {'prev':None})\n",
    "G.add_node('D',attr_dict = {'prev':None})\n",
    "G.add_node('E',attr_dict = {'prev':None})\n",
    "G.add_node('F',attr_dict = {'prev':None})\n",
    "G.add_node('Z',attr_dict = {'prev':None})\n",
    "\n",
    "G.add_edge('A','B',attr_dict = {'distance':5})\n",
    "G.add_edge('A','C',attr_dict = {'distance':6})\n",
    "G.add_edge('A','D',attr_dict = {'distance':4})\n",
    "G.add_edge('B','C',attr_dict = {'distance':1})\n",
    "G.add_edge('B','D',attr_dict = {'distance':2})\n",
    "G.add_edge('C','D',attr_dict = {'distance':2})\n",
    "G.add_edge('C','E',attr_dict = {'distance':5})\n",
    "G.add_edge('C','F',attr_dict = {'distance':3})\n",
    "G.add_edge('D','F',attr_dict = {'distance':4})\n",
    "G.add_edge('E','F',attr_dict = {'distance':4})\n",
    "G.add_edge('A','Z',attr_dict = {'distance':8})\n",
    "\n",
    "\n"
   ]
  },
  {
   "cell_type": "code",
   "execution_count": null,
   "metadata": {},
   "outputs": [],
   "source": [
    "prim(G, 'A')#escogint un node\n",
    "\n",
    "prim(G)#node random\n"
   ]
  },
  {
   "cell_type": "code",
   "execution_count": null,
   "metadata": {},
   "outputs": [],
   "source": [
    "#graf del metro de Londres\n",
    "from util import *\n",
    "from graph import Graph\n",
    "\n",
    "G, lines = get_subway_graph('csv', Graph)\n",
    "MST = prim(G, G.nodes()[0])\n"
   ]
  },
  {
   "cell_type": "code",
   "execution_count": null,
   "metadata": {},
   "outputs": [],
   "source": [
    "#graf MST\n",
    "draw_subway_graph(MST, lines, figsize=(12,10))"
   ]
  },
  {
   "cell_type": "code",
   "execution_count": null,
   "metadata": {},
   "outputs": [],
   "source": [
    "#graf originial\n",
    "draw_subway_graph(G, lines, figsize=(12,10))"
   ]
  },
  {
   "cell_type": "markdown",
   "metadata": {},
   "source": [
    "<div class=\"alert alert-info\">\n",
    "<center>\n",
    "  <h1>Comentarios</h1>\n",
    "  <p>\n",
    "  En esta sección tenéis que comentar brevemente (1) __cómo habéis realizado la implementación del algoritmo__ así como un (2) __análisis detallado de la complejidad__ del mismo.\n",
    "  </p>\n",
    "</center>\n",
    "</div>"
   ]
  },
  {
   "cell_type": "markdown",
   "metadata": {},
   "source": [
    "Per implementar l'algorisme començo creant un graf buit que anomenarem tree. Tambien tengo un diccionario para guardar los atributos de los nodos prev, visited(dejare de depender de la lista visited, ahora es un atributo del nodo) i prev_list. Prev_list sera una lista que guardara una tupla, (distancia entre nodo i posible vecino, posible vecino) donde posible vecino es uno de los nodos adyacentes al nodo. Esto me sirve para no sobreescribir el padre y guardarme la distancia entre el nodo1 y el nodo2, pero a la hora de asignar al padre se vaya sobreescribiendo i perder el padre original.\n",
    "\n",
    "Entonces, cada vez que miramos un nodo, lo metemos al arbol tree y miramos en prev_list, la menor distancia y el nodo con el que forma esa arista y sabemos que esa sera la arista necesaria para fromar el arbol minimo. Entonces ya podemos meter esa arista al arbol tree. Entonces miramos todos los nodos vecinos del nodo actual y si no ha sido visitado, lo metemos en el minheap y ademas añadimos a la prev_list la distacia que forman el nodo actual y el vecino y el nodo actual. Para acabar, ponemos que ha sido visitando modificando el atributo visited.\n",
    "\n",
    "El bucle while se ejecutara |V| veces, es decir, el numero de nodos que hay en el grafo de entrada. Y el bucle for se ejecutará 2*|E|, porque por cada nodo, tiene que visitar todos los nodos adyacentes (o vecinos). Añadir un elemento al minheap, como hay que mantener el arbol balanceado y el valor más pequeño como raíz, en el peor caso tardará O(log|V|) y se ejecutará O(2|E|log|V|) = O(|E|log|V|) veces. Para añadir el atributo value y prev a los nodos de los grafos tendremos que recorrer todo el grafo lo que supone O(|V|). Entonces, la complejidad total del algoritmo será:\n",
    "\n",
    "O(|E|log|V| + log|V|+|V|) = *O(|E|log|V|)*"
   ]
  },
  {
   "cell_type": "markdown",
   "metadata": {},
   "source": [
    "<div class=\"alert alert-info\">\n",
    "<center>\n",
    "  <h1>Entrega</h1>\n",
    "  <p>\n",
    "  La entrega de esta práctica se realizará a través del __Campus Virtual__. En ella tenéis que incluir únicamente el fichero `.ipynb` sin comprimir con el código debidamente comentado y los comentarios que se os proponen en la anterior sección.\n",
    "  </p>\n",
    "  <p>\n",
    "  El nombre del archivo ha de seguir el formato:\n",
    "  </p><p style=\"text-align:center\">\n",
    "  ```\n",
    "  <apellidos>_<nombre>_EP1.ipynb\n",
    "  ```\n",
    "  </p>\n",
    "</center>\n",
    "</div>"
   ]
  }
 ],
 "metadata": {
  "kernelspec": {
   "display_name": "Python 3",
   "language": "python",
   "name": "python3"
  },
  "language_info": {
   "codemirror_mode": {
    "name": "ipython",
    "version": 3
   },
   "file_extension": ".py",
   "mimetype": "text/x-python",
   "name": "python",
   "nbconvert_exporter": "python",
   "pygments_lexer": "ipython3",
   "version": "3.6.1"
  }
 },
 "nbformat": 4,
 "nbformat_minor": 2
}
