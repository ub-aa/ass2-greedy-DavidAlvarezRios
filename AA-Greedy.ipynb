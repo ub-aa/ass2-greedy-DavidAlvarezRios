{
 "cells": [
  {
   "cell_type": "markdown",
   "metadata": {},
   "source": [
    "<div style=\"padding:30px; color: white; background-color: #0071CD\">\n",
    "<center>\n",
    "<img src=\"img/logoub.jpeg\"></img>\n",
    "<center>\n",
    "<p>\n",
    "<h1>Algorísmica Avançada</h1>\n",
    "<h2>Práctica 2: Greedy</h2>\n",
    "</center>\n",
    "</p>\n",
    "</div>"
   ]
  },
  {
   "cell_type": "markdown",
   "metadata": {},
   "source": [
    "<div class=\"alert alert-success\" style=\"width:90%; margin:0 auto;\">\n",
    "  <h2><p>Minimum Spanning Tree</p></h2>\n",
    "  <p>\n",
    "Dado un grafo conexo y no dirigido, un minimum spanning tree de ese grafo es un subgrafo que tiene que ser un árbol y contener todos los vértices del grafo inicial. Cada arista tiene asignado un peso proporcional entre ellos, que es un número representativo de algún objeto, distancia, etc.; y se usa para asignar un peso total al MST computando la suma de todos los pesos de las aristas del árbol en cuestión. Un MST o un árbol expandido mínimo es un árbol recubridor que pesa menos o igual que otros árboles recubridores. Todo grafo tiene un bosque recubridor mínimo.\n",
    "  </p>\n",
    "  <p>\n",
    "      En esta práctica se plantea la implementación del algoritmo de Prim para encontrar el arbol de expansión mínima en el metro de Londres.\n",
    "  </p>\n",
    "  </div>\n"
   ]
  },
  {
   "cell_type": "markdown",
   "metadata": {},
   "source": [
    "<div class=\"alert alert-danger\" style=\"width:80%; margin:0 auto; padding\">\n",
    "<center><p><h3> Código </h3></p> </center>\n",
    "<p>\n",
    "<h3>INPUT</h3>\n",
    "<ul>\n",
    "<li>__G__: El grafo del metro de londres.</li>\n",
    "</ul>\n",
    "<br>\n",
    "<h3>OUTPUT</h3>\n",
    "\n",
    "<ul>\n",
    "<li>\n",
    "__tree__: Objeto de tipo `Graph` que contenga el MST del grafo inical.\n",
    "</li>\n",
    "<ul>\n",
    "\n",
    "</p>\n",
    "</div>\n"
   ]
  },
  {
   "cell_type": "code",
   "execution_count": 17,
   "metadata": {
    "collapsed": true
   },
   "outputs": [],
   "source": [
    "import heapq\n",
    "from graph import Graph\n",
    "def prim(G, origin=None, infinity = 99999999999):\n",
    "    \"\"\" Implementación del algoritmo de Prim para obtener el MST de un grafo cualquiera.\n",
    "    Args:\n",
    "        G (Graph): El grafo de tipo Graph sobre el que queremos buscar los componentes conexos\n",
    "    Returns:\n",
    "        tree: El grafo de tipo Graph que contiene el arbol de expansión mínima.\n",
    "    \"\"\"\n",
    "\n",
    "    if origin == None:\n",
    "        raise ValueError(\"No hi ha node origen per fer l'algorisme\")\n",
    "    if origin not in G.nodes():\n",
    "        raise ValueError(\"Aquest node no es troba en el graf G\")\n",
    "        \n",
    "    tree = Graph()\n",
    "    \n",
    "    G.add_nodes_from(G.nodes(),{'value': infinity, 'prev':None})\n",
    "        \n",
    "    visited = []\n",
    "    pending = []\n",
    "    heapq.heapify(pending) #convertim la llista pending en un minheap\n",
    "    \n",
    "    G.node[origin]['value'] = 0 #posem el cost del node origen a 0.\n",
    "    current_node = origin\n",
    "    heapq.heappush(pending, (G.node[current_node]['value'], origin))\n",
    "    \n",
    "    while pending:\n",
    "        \n",
    "        current_node = heapq.heappop(pending)[1]\n",
    "           \n",
    "        for vei in G.neighbors(current_node):\n",
    "            \n",
    "            if vei not in visited:\n",
    "                distancia = G.edge[current_node][vei]['distance']         \n",
    "                G.node[vei]['value'] = distancia\n",
    "                G.node[vei]['prev'] = current_node\n",
    "                heapq.heappush(pending, (G.node[vei]['value'], vei))\n",
    "            \n",
    "        if current_node not in visited:    visited.append(current_node)\n",
    "    \n",
    "    cami_minim = []\n",
    "    current_node = visited.pop(len(visited)-1)\n",
    "    \n",
    "    while visited:\n",
    "        if G.node[current_node]['prev'] != None:\n",
    "            edge = (G.node[current_node]['prev'],current_node)\n",
    "            cami_minim.append(edge)\n",
    "            current_node = visited.pop(len(visited)-1)\n",
    "        \n",
    "    cami_minim.reverse()\n",
    "    tree.add_edges_from(cami_minim)\n",
    "    print(tree.edges())\n",
    "    \n",
    "    return cami_minim, tree"
   ]
  },
  {
   "cell_type": "code",
   "execution_count": 18,
   "metadata": {},
   "outputs": [
    {
     "name": "stdout",
     "output_type": "stream",
     "text": [
      "[('A', 'D'), ('A', 'Z'), ('D', 'B'), ('B', 'C'), ('C', 'F'), ('F', 'E')]\n"
     ]
    },
    {
     "data": {
      "text/plain": [
       "([('A', 'D'), ('D', 'B'), ('B', 'C'), ('C', 'F'), ('F', 'E'), ('A', 'Z')],\n",
       " <graph.Graph at 0x7f862c339208>)"
      ]
     },
     "execution_count": 18,
     "metadata": {},
     "output_type": "execute_result"
    }
   ],
   "source": [
    "prim(G, 'A')"
   ]
  },
  {
   "cell_type": "markdown",
   "metadata": {},
   "source": [
    "<div class=\"alert alert-danger\" style=\"width:80%; margin:0 auto; padding\">\n",
    "<center><p><h3> Tests </h3></p> </center>\n",
    "<p>\n",
    "Realiza los tests pertinentes en las celdas dispuestas a continuación.\n",
    "</p>\n",
    "</div>\n"
   ]
  },
  {
   "cell_type": "code",
   "execution_count": 3,
   "metadata": {},
   "outputs": [],
   "source": [
    "G = Graph()\n",
    "edges = [('A','B'), ('A','C'),('A','D'),('B','C'),('B','D'),('C','D'),('C','E'),('C','F'),('D','F'),('E','F'),('A','Z')]\n",
    "distance = [5,6,4,1,2,2,5,3,4,4,8]\n",
    "G.add_edges_from(edges,{'distance' : 0})\n",
    "i = 0\n",
    "for edge in edges:\n",
    "    G.edge[edge[0]][edge[1]] = {'distance' : distance[i]}\n",
    "    i += 1\n",
    "\n"
   ]
  },
  {
   "cell_type": "code",
   "execution_count": 56,
   "metadata": {},
   "outputs": [
    {
     "data": {
      "text/plain": [
       "[('A', 'D'), ('D', 'B'), ('B', 'C')]"
      ]
     },
     "execution_count": 56,
     "metadata": {},
     "output_type": "execute_result"
    }
   ],
   "source": [
    "prim(G, 'A')"
   ]
  },
  {
   "cell_type": "markdown",
   "metadata": {},
   "source": [
    "<div class=\"alert alert-info\">\n",
    "<center>\n",
    "  <h1>Comentarios</h1>\n",
    "  <p>\n",
    "  En esta sección tenéis que comentar brevemente (1) __cómo habéis realizado la implementación del algoritmo__ así como un (2) __análisis detallado de la complejidad__ del mismo.\n",
    "  </p>\n",
    "</center>\n",
    "</div>"
   ]
  },
  {
   "cell_type": "markdown",
   "metadata": {},
   "source": [
    "_Escribe tu respuesta en este bloque_"
   ]
  },
  {
   "cell_type": "markdown",
   "metadata": {},
   "source": [
    "<div class=\"alert alert-info\">\n",
    "<center>\n",
    "  <h1>Entrega</h1>\n",
    "  <p>\n",
    "  La entrega de esta práctica se realizará a través del __Campus Virtual__. En ella tenéis que incluir únicamente el fichero `.ipynb` sin comprimir con el código debidamente comentado y los comentarios que se os proponen en la anterior sección.\n",
    "  </p>\n",
    "  <p>\n",
    "  El nombre del archivo ha de seguir el formato:\n",
    "  </p><p style=\"text-align:center\">\n",
    "  ```\n",
    "  <apellidos>_<nombre>_EP1.ipynb\n",
    "  ```\n",
    "  </p>\n",
    "</center>\n",
    "</div>"
   ]
  }
 ],
 "metadata": {
  "kernelspec": {
   "display_name": "Python 3",
   "language": "python",
   "name": "python3"
  },
  "language_info": {
   "codemirror_mode": {
    "name": "ipython",
    "version": 3
   },
   "file_extension": ".py",
   "mimetype": "text/x-python",
   "name": "python",
   "nbconvert_exporter": "python",
   "pygments_lexer": "ipython3",
   "version": "3.6.1"
  }
 },
 "nbformat": 4,
 "nbformat_minor": 2
}
